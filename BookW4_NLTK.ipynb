{
  "nbformat": 4,
  "nbformat_minor": 0,
  "metadata": {
    "colab": {
      "provenance": []
    },
    "kernelspec": {
      "name": "python3",
      "display_name": "Python 3"
    },
    "language_info": {
      "name": "python"
    }
  },
  "cells": [
    {
      "cell_type": "markdown",
      "source": [
        "**Using NLTK Book with Google Colab**"
      ],
      "metadata": {
        "id": "shHfv-Le0k2L"
      }
    },
    {
      "cell_type": "markdown",
      "source": [
        "**Step 1: Installation in Colab**"
      ],
      "metadata": {
        "id": "d-34Xhe31Cpy"
      }
    },
    {
      "cell_type": "code",
      "execution_count": null,
      "metadata": {
        "id": "VUmXtrIlyFE1",
        "colab": {
          "base_uri": "https://localhost:8080/"
        },
        "outputId": "191b0da7-a211-4fa0-c4b1-b09d2944f783"
      },
      "outputs": [
        {
          "output_type": "stream",
          "name": "stdout",
          "text": [
            "Requirement already satisfied: nltk in /usr/local/lib/python3.11/dist-packages (3.9.1)\n",
            "Requirement already satisfied: click in /usr/local/lib/python3.11/dist-packages (from nltk) (8.1.8)\n",
            "Requirement already satisfied: joblib in /usr/local/lib/python3.11/dist-packages (from nltk) (1.4.2)\n",
            "Requirement already satisfied: regex>=2021.8.3 in /usr/local/lib/python3.11/dist-packages (from nltk) (2024.11.6)\n",
            "Requirement already satisfied: tqdm in /usr/local/lib/python3.11/dist-packages (from nltk) (4.67.1)\n"
          ]
        },
        {
          "output_type": "stream",
          "name": "stderr",
          "text": [
            "[nltk_data] Downloading collection 'book'\n",
            "[nltk_data]    | \n",
            "[nltk_data]    | Downloading package abc to /root/nltk_data...\n",
            "[nltk_data]    |   Unzipping corpora/abc.zip.\n",
            "[nltk_data]    | Downloading package brown to /root/nltk_data...\n",
            "[nltk_data]    |   Unzipping corpora/brown.zip.\n",
            "[nltk_data]    | Downloading package chat80 to /root/nltk_data...\n",
            "[nltk_data]    |   Unzipping corpora/chat80.zip.\n",
            "[nltk_data]    | Downloading package cmudict to /root/nltk_data...\n",
            "[nltk_data]    |   Unzipping corpora/cmudict.zip.\n",
            "[nltk_data]    | Downloading package conll2000 to /root/nltk_data...\n",
            "[nltk_data]    |   Unzipping corpora/conll2000.zip.\n",
            "[nltk_data]    | Downloading package conll2002 to /root/nltk_data...\n",
            "[nltk_data]    |   Unzipping corpora/conll2002.zip.\n",
            "[nltk_data]    | Downloading package dependency_treebank to\n",
            "[nltk_data]    |     /root/nltk_data...\n",
            "[nltk_data]    |   Unzipping corpora/dependency_treebank.zip.\n",
            "[nltk_data]    | Downloading package genesis to /root/nltk_data...\n",
            "[nltk_data]    |   Unzipping corpora/genesis.zip.\n",
            "[nltk_data]    | Downloading package gutenberg to /root/nltk_data...\n",
            "[nltk_data]    |   Unzipping corpora/gutenberg.zip.\n",
            "[nltk_data]    | Downloading package ieer to /root/nltk_data...\n",
            "[nltk_data]    |   Unzipping corpora/ieer.zip.\n",
            "[nltk_data]    | Downloading package inaugural to /root/nltk_data...\n",
            "[nltk_data]    |   Unzipping corpora/inaugural.zip.\n",
            "[nltk_data]    | Downloading package movie_reviews to\n",
            "[nltk_data]    |     /root/nltk_data...\n",
            "[nltk_data]    |   Unzipping corpora/movie_reviews.zip.\n",
            "[nltk_data]    | Downloading package nps_chat to /root/nltk_data...\n",
            "[nltk_data]    |   Unzipping corpora/nps_chat.zip.\n",
            "[nltk_data]    | Downloading package names to /root/nltk_data...\n",
            "[nltk_data]    |   Unzipping corpora/names.zip.\n",
            "[nltk_data]    | Downloading package ppattach to /root/nltk_data...\n",
            "[nltk_data]    |   Unzipping corpora/ppattach.zip.\n",
            "[nltk_data]    | Downloading package reuters to /root/nltk_data...\n",
            "[nltk_data]    | Downloading package senseval to /root/nltk_data...\n",
            "[nltk_data]    |   Unzipping corpora/senseval.zip.\n",
            "[nltk_data]    | Downloading package state_union to /root/nltk_data...\n",
            "[nltk_data]    |   Unzipping corpora/state_union.zip.\n",
            "[nltk_data]    | Downloading package stopwords to /root/nltk_data...\n",
            "[nltk_data]    |   Unzipping corpora/stopwords.zip.\n",
            "[nltk_data]    | Downloading package swadesh to /root/nltk_data...\n",
            "[nltk_data]    |   Unzipping corpora/swadesh.zip.\n",
            "[nltk_data]    | Downloading package timit to /root/nltk_data...\n",
            "[nltk_data]    |   Unzipping corpora/timit.zip.\n",
            "[nltk_data]    | Downloading package treebank to /root/nltk_data...\n",
            "[nltk_data]    |   Unzipping corpora/treebank.zip.\n",
            "[nltk_data]    | Downloading package toolbox to /root/nltk_data...\n",
            "[nltk_data]    |   Unzipping corpora/toolbox.zip.\n",
            "[nltk_data]    | Downloading package udhr to /root/nltk_data...\n",
            "[nltk_data]    |   Unzipping corpora/udhr.zip.\n",
            "[nltk_data]    | Downloading package udhr2 to /root/nltk_data...\n",
            "[nltk_data]    |   Unzipping corpora/udhr2.zip.\n",
            "[nltk_data]    | Downloading package unicode_samples to\n",
            "[nltk_data]    |     /root/nltk_data...\n",
            "[nltk_data]    |   Unzipping corpora/unicode_samples.zip.\n",
            "[nltk_data]    | Downloading package webtext to /root/nltk_data...\n",
            "[nltk_data]    |   Unzipping corpora/webtext.zip.\n",
            "[nltk_data]    | Downloading package wordnet to /root/nltk_data...\n",
            "[nltk_data]    | Downloading package wordnet_ic to /root/nltk_data...\n",
            "[nltk_data]    |   Unzipping corpora/wordnet_ic.zip.\n",
            "[nltk_data]    | Downloading package words to /root/nltk_data...\n",
            "[nltk_data]    |   Unzipping corpora/words.zip.\n",
            "[nltk_data]    | Downloading package maxent_treebank_pos_tagger to\n",
            "[nltk_data]    |     /root/nltk_data...\n",
            "[nltk_data]    |   Unzipping taggers/maxent_treebank_pos_tagger.zip.\n",
            "[nltk_data]    | Downloading package maxent_ne_chunker to\n",
            "[nltk_data]    |     /root/nltk_data...\n",
            "[nltk_data]    |   Unzipping chunkers/maxent_ne_chunker.zip.\n",
            "[nltk_data]    | Downloading package universal_tagset to\n",
            "[nltk_data]    |     /root/nltk_data...\n",
            "[nltk_data]    |   Unzipping taggers/universal_tagset.zip.\n",
            "[nltk_data]    | Downloading package punkt to /root/nltk_data...\n",
            "[nltk_data]    |   Unzipping tokenizers/punkt.zip.\n",
            "[nltk_data]    | Downloading package book_grammars to\n",
            "[nltk_data]    |     /root/nltk_data...\n",
            "[nltk_data]    |   Unzipping grammars/book_grammars.zip.\n",
            "[nltk_data]    | Downloading package city_database to\n",
            "[nltk_data]    |     /root/nltk_data...\n",
            "[nltk_data]    |   Unzipping corpora/city_database.zip.\n",
            "[nltk_data]    | Downloading package tagsets to /root/nltk_data...\n",
            "[nltk_data]    |   Unzipping help/tagsets.zip.\n",
            "[nltk_data]    | Downloading package panlex_swadesh to\n",
            "[nltk_data]    |     /root/nltk_data...\n",
            "[nltk_data]    | Downloading package averaged_perceptron_tagger to\n",
            "[nltk_data]    |     /root/nltk_data...\n",
            "[nltk_data]    |   Unzipping taggers/averaged_perceptron_tagger.zip.\n",
            "[nltk_data]    | \n",
            "[nltk_data]  Done downloading collection book\n"
          ]
        },
        {
          "output_type": "execute_result",
          "data": {
            "text/plain": [
              "True"
            ]
          },
          "metadata": {},
          "execution_count": 1
        }
      ],
      "source": [
        "# Step 1: Installation in Colab\n",
        "# Install NLTK library\n",
        "!pip install nltk\n",
        "\n",
        "# Import NLTK and download datasets\n",
        "import nltk\n",
        "nltk.download('book')\n"
      ]
    },
    {
      "cell_type": "markdown",
      "source": [
        "**Step 2: Importing NLTK Book**"
      ],
      "metadata": {
        "id": "a5wBv7hH1Iya"
      }
    },
    {
      "cell_type": "code",
      "source": [
        "from nltk.book import *"
      ],
      "metadata": {
        "id": "f1z9ZaoW1NGi",
        "colab": {
          "base_uri": "https://localhost:8080/"
        },
        "outputId": "9a194809-311f-4a79-b4b7-d928316c4690"
      },
      "execution_count": null,
      "outputs": [
        {
          "output_type": "stream",
          "name": "stdout",
          "text": [
            "*** Introductory Examples for the NLTK Book ***\n",
            "Loading text1, ..., text9 and sent1, ..., sent9\n",
            "Type the name of the text or sentence to view it.\n",
            "Type: 'texts()' or 'sents()' to list the materials.\n",
            "text1: Moby Dick by Herman Melville 1851\n",
            "text2: Sense and Sensibility by Jane Austen 1811\n",
            "text3: The Book of Genesis\n",
            "text4: Inaugural Address Corpus\n",
            "text5: Chat Corpus\n",
            "text6: Monty Python and the Holy Grail\n",
            "text7: Wall Street Journal\n",
            "text8: Personals Corpus\n",
            "text9: The Man Who Was Thursday by G . K . Chesterton 1908\n"
          ]
        }
      ]
    },
    {
      "cell_type": "markdown",
      "source": [
        "**Step 3: Basic Operations and NLP Examples**"
      ],
      "metadata": {
        "id": "nL6J_vEK1Sz6"
      }
    },
    {
      "cell_type": "code",
      "source": [
        "# Concordance (查詢詞語出現上下文)\n",
        "from nltk.book import *\n",
        "text1.concordance('whale')\n"
      ],
      "metadata": {
        "id": "tXG12oNw1XMa",
        "colab": {
          "base_uri": "https://localhost:8080/"
        },
        "outputId": "757a7f6c-f7a2-4d14-f46e-2422c9dbd4bd"
      },
      "execution_count": null,
      "outputs": [
        {
          "output_type": "stream",
          "name": "stdout",
          "text": [
            "Displaying 25 of 1226 matches:\n",
            "s , and to teach them by what name a whale - fish is to be called in our tongue\n",
            "t which is not true .\" -- HACKLUYT \" WHALE . ... Sw . and Dan . HVAL . This ani\n",
            "ulted .\" -- WEBSTER ' S DICTIONARY \" WHALE . ... It is more immediately from th\n",
            "ISH . WAL , DUTCH . HWAL , SWEDISH . WHALE , ICELANDIC . WHALE , ENGLISH . BALE\n",
            "HWAL , SWEDISH . WHALE , ICELANDIC . WHALE , ENGLISH . BALEINE , FRENCH . BALLE\n",
            "least , take the higgledy - piggledy whale statements , however authentic , in \n",
            " dreadful gulf of this monster ' s ( whale ' s ) mouth , are immediately lost a\n",
            " patient Job .\" -- RABELAIS . \" This whale ' s liver was two cartloads .\" -- ST\n",
            " Touching that monstrous bulk of the whale or ork we have received nothing cert\n",
            " of oil will be extracted out of one whale .\" -- IBID . \" HISTORY OF LIFE AND D\n",
            "ise .\" -- KING HENRY . \" Very like a whale .\" -- HAMLET . \" Which to secure , n\n",
            "restless paine , Like as the wounded whale to shore flies thro ' the maine .\" -\n",
            ". OF SPERMA CETI AND THE SPERMA CETI WHALE . VIDE HIS V . E . \" Like Spencer ' \n",
            "t had been a sprat in the mouth of a whale .\" -- PILGRIM ' S PROGRESS . \" That \n",
            "EN ' S ANNUS MIRABILIS . \" While the whale is floating at the stern of the ship\n",
            "e ship called The Jonas - in - the - Whale . ... Some say the whale can ' t ope\n",
            " in - the - Whale . ... Some say the whale can ' t open his mouth , but that is\n",
            " masts to see whether they can see a whale , for the first discoverer has a duc\n",
            " for his pains . ... I was told of a whale taken near Shetland , that had above\n",
            "oneers told me that he caught once a whale in Spitzbergen that was white all ov\n",
            "2 , one eighty feet in length of the whale - bone kind came in , which ( as I w\n",
            "n master and kill this Sperma - ceti whale , for I could never hear of any of t\n",
            " . 1729 . \"... and the breath of the whale is frequendy attended with such an i\n",
            "ed with hoops and armed with ribs of whale .\" -- RAPE OF THE LOCK . \" If we com\n",
            "contemptible in the comparison . The whale is doubtless the largest animal in c\n"
          ]
        }
      ]
    },
    {
      "cell_type": "code",
      "source": [
        "# Dispersion Plot (詞語分布圖)\n",
        "text4.dispersion_plot(['democracy', 'freedom', 'America'])\n",
        "\n"
      ],
      "metadata": {
        "id": "eiPC0eYc1gxC",
        "colab": {
          "base_uri": "https://localhost:8080/",
          "height": 472
        },
        "outputId": "7add4da0-1675-4c55-b8cb-54aae8b91209"
      },
      "execution_count": null,
      "outputs": [
        {
          "output_type": "display_data",
          "data": {
            "text/plain": [
              "<Figure size 640x480 with 1 Axes>"
            ],
            "image/png": "[encoded data removed]"
          },
          "metadata": {}
        }
      ]
    },
    {
      "cell_type": "code",
      "source": [
        "# Counting Frequency (詞頻統計)\n",
        "from nltk import FreqDist\n",
        "fdist = FreqDist(text5)\n",
        "print(f\"'lol' appears {text5.count('lol')} times.\")\n"
      ],
      "metadata": {
        "id": "Kp8O26dB1sES",
        "colab": {
          "base_uri": "https://localhost:8080/"
        },
        "outputId": "e99f97cf-9592-4190-f9f3-360c2f1812f4"
      },
      "execution_count": null,
      "outputs": [
        {
          "output_type": "stream",
          "name": "stdout",
          "text": [
            "'lol' appears 704 times.\n"
          ]
        }
      ]
    },
    {
      "cell_type": "code",
      "source": [
        "# Lexical Diversity (詞彙多樣性)\n",
        "def lexical_diversity(text):\n",
        "    return len(set(text)) / len(text)\n",
        "\n",
        "print(lexical_diversity(text3))\n"
      ],
      "metadata": {
        "id": "RwcD6iYX1zwa",
        "colab": {
          "base_uri": "https://localhost:8080/"
        },
        "outputId": "048712cb-640d-4674-f710-724640c195f0"
      },
      "execution_count": null,
      "outputs": [
        {
          "output_type": "stream",
          "name": "stdout",
          "text": [
            "0.06230453042623537\n"
          ]
        }
      ]
    },
    {
      "cell_type": "markdown",
      "source": [
        "Why use the NLTK Book corpus?（NLTK Book用途）\n",
        "\n",
        "* Practice basic NLP techniques: frequency analysis, sentiment analysis, text classification.\n",
        "* Understand linguistic differences across genres (formal vs informal, spoken written)"
      ],
      "metadata": {
        "id": "_c9vt_7y2OMy"
      }
    },
    {
      "cell_type": "markdown",
      "source": [
        "**Suggested Class Activity (Using NLTK Book & N-grams)**\n",
        "\n",
        "Topic: Explore N-grams Using the NLTK Book Corpus\n",
        "\n",
        "Goals of this Activity:\n",
        "\n",
        "Apply the concept of N-grams practically.\n",
        "Understand how to extract N-grams from real text corpora.\n",
        "Compare linguistic usage in different text types (formal vs informal)."
      ],
      "metadata": {
        "id": "ZA4NlZZQ41tr"
      }
    },
    {
      "cell_type": "markdown",
      "source": [
        "**Step-by-step Instructions**\n",
        "\n",
        "**Setup**"
      ],
      "metadata": {
        "id": "FCWehLp4406z"
      }
    },
    {
      "cell_type": "markdown",
      "source": [
        "!pip install nltk\n",
        "import nltk\n",
        "nltk.download('book')\n",
        "\n",
        "from nltk.book import *\n"
      ],
      "metadata": {
        "id": "tVxHo6tx493q"
      }
    },
    {
      "cell_type": "markdown",
      "source": [
        "**Activity 1**: Extract N-grams from Texts\n",
        "\n",
        " Extract and examine bigrams (2-grams) and trigrams (3-grams) from different texts in NLTK Book.\n",
        "\n",
        "Example code (for bigrams and trigrams):"
      ],
      "metadata": {
        "id": "Meq3eg6a5SXD"
      }
    },
    {
      "cell_type": "code",
      "source": [
        "from nltk.util import ngrams\n",
        "\n",
        "# Choose a text, e.g., text1 (Moby Dick)\n",
        "bigrams_text1 = list(nltk.bigrams(text1))\n",
        "trigrams_text5 = list(nltk.trigrams(text5))\n",
        "\n",
        "# Show first 10 bigrams from text1\n",
        "print(bigrams_text1[:10])\n",
        "\n",
        "# Show first 10 trigrams from text5\n",
        "print(trigrams_text5[:10])\n"
      ],
      "metadata": {
        "id": "t28jv1C05ncj",
        "colab": {
          "base_uri": "https://localhost:8080/"
        },
        "outputId": "988ced68-29a4-4a3b-e522-b2041e22c893"
      },
      "execution_count": null,
      "outputs": [
        {
          "output_type": "stream",
          "name": "stdout",
          "text": [
            "[('[', 'Moby'), ('Moby', 'Dick'), ('Dick', 'by'), ('by', 'Herman'), ('Herman', 'Melville'), ('Melville', '1851'), ('1851', ']'), (']', 'ETYMOLOGY'), ('ETYMOLOGY', '.'), ('.', '(')]\n",
            "[('now', 'im', 'left'), ('im', 'left', 'with'), ('left', 'with', 'this'), ('with', 'this', 'gay'), ('this', 'gay', 'name'), ('gay', 'name', ':P'), ('name', ':P', 'PART'), (':P', 'PART', 'hey'), ('PART', 'hey', 'everyone'), ('hey', 'everyone', 'ah')]\n"
          ]
        }
      ]
    },
    {
      "cell_type": "markdown",
      "source": [
        "**Activity 2**: Frequency Distribution of N-grams\n",
        "\n",
        "Find common N-grams:"
      ],
      "metadata": {
        "id": "5yOOEMZe5qnj"
      }
    },
    {
      "cell_type": "code",
      "source": [
        "from nltk import FreqDist, bigrams\n",
        "\n",
        "# Get bigrams from Text 4 (Inaugural speeches)\n",
        "bigrams_text4 = list(nltk.bigrams(text4))\n",
        "\n",
        "# Calculate frequency distribution\n",
        "fdist = nltk.FreqDist(bigrams_text4)\n",
        "\n",
        "# Most common 10 bigrams\n",
        "print(f\"Top 10 bigrams in Presidential Speeches: {fdist.most_common(10)}\")\n"
      ],
      "metadata": {
        "id": "WVjYGHDU5zg7",
        "colab": {
          "base_uri": "https://localhost:8080/"
        },
        "outputId": "4fc19241-68e0-4236-8e9d-548dd3026be8"
      },
      "execution_count": null,
      "outputs": [
        {
          "output_type": "stream",
          "name": "stdout",
          "text": [
            "Top 10 bigrams in Presidential Speeches: [(('of', 'the'), 1784), ((',', 'and'), 1404), (('in', 'the'), 765), (('to', 'the'), 716), (('of', 'our'), 635), (('.', 'The'), 606), (('.', 'We'), 562), (('and', 'the'), 470), ((',', 'the'), 388), (('.', 'It'), 354)]\n"
          ]
        }
      ]
    },
    {
      "cell_type": "markdown",
      "source": [
        "**Activity 3**: Comparing N-grams across Genres (比較不同類型語料庫的差異)\n",
        "\n",
        "Compare bigrams from formal texts (e.g. Presidential speeches, text4) versus informal texts (chat corpus, text5):"
      ],
      "metadata": {
        "id": "UUN0ibO855bb"
      }
    },
    {
      "cell_type": "code",
      "source": [
        "from nltk.util import ngrams\n",
        "from nltk import FreqDist\n",
        "\n",
        "# Bigram analysis function\n",
        "def top_bigrams(text, n=10):\n",
        "    bigrams = list(nltk.bigrams(text))\n",
        "    fdist = nltk.FreqDist(bigrams)\n",
        "    return fdist.most_common(n=10)\n",
        "\n",
        "# Compare bigrams of formal and informal texts\n",
        "print(\"Formal Text (text4 - Inaugural Addresses):\")\n",
        "print(top_bigrams(text4))\n",
        "\n",
        "print(\"\\nInformal Text (text5 - Chat Corpus):\")\n",
        "print(top_bigrams(text5))\n"
      ],
      "metadata": {
        "id": "x55fsVZG6BOz",
        "colab": {
          "base_uri": "https://localhost:8080/"
        },
        "outputId": "a60dfc2f-a151-4996-db9a-52bb8734606a"
      },
      "execution_count": null,
      "outputs": [
        {
          "output_type": "stream",
          "name": "stdout",
          "text": [
            "Formal Text (text4 - Inaugural Addresses):\n",
            "[(('of', 'the'), 1784), ((',', 'and'), 1404), (('in', 'the'), 765), (('to', 'the'), 716), (('of', 'our'), 635), (('.', 'The'), 606), (('.', 'We'), 562), (('and', 'the'), 470), ((',', 'the'), 388), (('.', 'It'), 354)]\n",
            "\n",
            "Informal Text (text5 - Chat Corpus):\n",
            "[(('.', 'ACTION'), 346), (('PART', 'JOIN'), 191), (('JOIN', 'PART'), 136), (('PART', 'PART'), 115), (('JOIN', 'JOIN'), 107), (('I', \"'m\"), 89), (('.', 'JOIN'), 79), (('pm', 'me'), 76), (('in', 'the'), 75), (('are', 'you'), 65)]\n"
          ]
        }
      ]
    },
    {
      "cell_type": "markdown",
      "source": [
        "**Activity 4** : Visualizing N-gram frequencies (資料視覺化)\n"
      ],
      "metadata": {
        "id": "Rg5FS6566EvD"
      }
    },
    {
      "cell_type": "code",
      "source": [
        "import matplotlib.pyplot as plt\n",
        "\n",
        "bigrams = list(nltk.bigrams(text4))\n",
        "fdist = nltk.FreqDist(bigrams)\n",
        "common_bigrams = fdist.most_common(10)\n",
        "\n",
        "# Visualization\n",
        "fdist.plot(10, cumulative=False)\n",
        "plt.title(\"Top 10 Bigrams in US Inaugural Speeches (text4)\")\n",
        "plt.show()\n"
      ],
      "metadata": {
        "id": "-R7mVFrI6Eiq",
        "colab": {
          "base_uri": "https://localhost:8080/",
          "height": 542
        },
        "outputId": "20234b46-b2c8-48dc-ca03-fb2b96599347"
      },
      "execution_count": null,
      "outputs": [
        {
          "output_type": "display_data",
          "data": {
            "text/plain": [
              "<Figure size 640x480 with 1 Axes>"
            ],
            "image/png": "[encoded data removed]"
          },
          "metadata": {}
        }
      ]
    },
    {
      "cell_type": "markdown",
      "source": [
        "**Discussions (延伸討論):**\n",
        "\n",
        "1. What are the differences in frequent N-grams among formal texts (e.g.,\n",
        "Presidential speeches) and informal texts (text5 chat corpus)? (不同文體（正式與非正式）之間的N-gram差異為何？)\n",
        "\n",
        "\n",
        "2. How does context affect the meaning of common bigrams or trigrams? (上下文如何影響特定N-grams的意義？)\n",
        "\n",
        "2. Can you identify particular language patterns unique to certain text genres?(是否能觀察到特定文本類型有其獨特的語言模式？)"
      ],
      "metadata": {
        "id": "GqDCNl3N6bsL"
      }
    },
    {
      "cell_type": "markdown",
      "source": [
        "**Using NLTK Book with Google Ngrams Vocabulary**\n",
        "1. Select 3 texts from the NLTK Book corpus, and analyze words previously explored using Google Ngram Viewer.\n",
        "2. Conduct these analyses for each chosen text:\n",
        "•\tWord Frequencies（詞頻分析）\n",
        "•\tConcordance（上下文查詢）\n",
        "•\tLexical Diversity (詞彙豐富度)\n",
        "•\tN-gram Analysis (bigrams/trigrams)\n"
      ],
      "metadata": {
        "id": "-uWus6sV77I1"
      }
    },
    {
      "cell_type": "code",
      "source": [
        "#  Step 1: Preparation (前置作業)\n",
        "# Install NLTK & Download data\n",
        "!pip install nltk\n",
        "import nltk\n",
        "nltk.download('book')\n",
        "\n",
        "# Import texts\n",
        "from nltk.book import *\n"
      ],
      "metadata": {
        "id": "LudSBMSZ8GN9",
        "colab": {
          "base_uri": "https://localhost:8080/"
        },
        "outputId": "cf1ef1c6-842b-45dd-872a-7209cac87997"
      },
      "execution_count": null,
      "outputs": [
        {
          "output_type": "stream",
          "name": "stdout",
          "text": [
            "Requirement already satisfied: nltk in /usr/local/lib/python3.11/dist-packages (3.9.1)\n",
            "Requirement already satisfied: click in /usr/local/lib/python3.11/dist-packages (from nltk) (8.1.8)\n",
            "Requirement already satisfied: joblib in /usr/local/lib/python3.11/dist-packages (from nltk) (1.4.2)\n",
            "Requirement already satisfied: regex>=2021.8.3 in /usr/local/lib/python3.11/dist-packages (from nltk) (2024.11.6)\n",
            "Requirement already satisfied: tqdm in /usr/local/lib/python3.11/dist-packages (from nltk) (4.67.1)\n"
          ]
        },
        {
          "output_type": "stream",
          "name": "stderr",
          "text": [
            "[nltk_data] Downloading collection 'book'\n",
            "[nltk_data]    | \n",
            "[nltk_data]    | Downloading package abc to /root/nltk_data...\n",
            "[nltk_data]    |   Package abc is already up-to-date!\n",
            "[nltk_data]    | Downloading package brown to /root/nltk_data...\n",
            "[nltk_data]    |   Package brown is already up-to-date!\n",
            "[nltk_data]    | Downloading package chat80 to /root/nltk_data...\n",
            "[nltk_data]    |   Package chat80 is already up-to-date!\n",
            "[nltk_data]    | Downloading package cmudict to /root/nltk_data...\n",
            "[nltk_data]    |   Package cmudict is already up-to-date!\n",
            "[nltk_data]    | Downloading package conll2000 to /root/nltk_data...\n",
            "[nltk_data]    |   Package conll2000 is already up-to-date!\n",
            "[nltk_data]    | Downloading package conll2002 to /root/nltk_data...\n",
            "[nltk_data]    |   Package conll2002 is already up-to-date!\n",
            "[nltk_data]    | Downloading package dependency_treebank to\n",
            "[nltk_data]    |     /root/nltk_data...\n",
            "[nltk_data]    |   Package dependency_treebank is already up-to-date!\n",
            "[nltk_data]    | Downloading package genesis to /root/nltk_data...\n",
            "[nltk_data]    |   Package genesis is already up-to-date!\n",
            "[nltk_data]    | Downloading package gutenberg to /root/nltk_data...\n",
            "[nltk_data]    |   Package gutenberg is already up-to-date!\n",
            "[nltk_data]    | Downloading package ieer to /root/nltk_data...\n",
            "[nltk_data]    |   Package ieer is already up-to-date!\n",
            "[nltk_data]    | Downloading package inaugural to /root/nltk_data...\n",
            "[nltk_data]    |   Package inaugural is already up-to-date!\n",
            "[nltk_data]    | Downloading package movie_reviews to\n",
            "[nltk_data]    |     /root/nltk_data...\n",
            "[nltk_data]    |   Package movie_reviews is already up-to-date!\n",
            "[nltk_data]    | Downloading package nps_chat to /root/nltk_data...\n",
            "[nltk_data]    |   Package nps_chat is already up-to-date!\n",
            "[nltk_data]    | Downloading package names to /root/nltk_data...\n",
            "[nltk_data]    |   Package names is already up-to-date!\n",
            "[nltk_data]    | Downloading package ppattach to /root/nltk_data...\n",
            "[nltk_data]    |   Package ppattach is already up-to-date!\n",
            "[nltk_data]    | Downloading package reuters to /root/nltk_data...\n",
            "[nltk_data]    |   Package reuters is already up-to-date!\n",
            "[nltk_data]    | Downloading package senseval to /root/nltk_data...\n",
            "[nltk_data]    |   Package senseval is already up-to-date!\n",
            "[nltk_data]    | Downloading package state_union to /root/nltk_data...\n",
            "[nltk_data]    |   Package state_union is already up-to-date!\n",
            "[nltk_data]    | Downloading package stopwords to /root/nltk_data...\n",
            "[nltk_data]    |   Package stopwords is already up-to-date!\n",
            "[nltk_data]    | Downloading package swadesh to /root/nltk_data...\n",
            "[nltk_data]    |   Package swadesh is already up-to-date!\n",
            "[nltk_data]    | Downloading package timit to /root/nltk_data...\n",
            "[nltk_data]    |   Package timit is already up-to-date!\n",
            "[nltk_data]    | Downloading package treebank to /root/nltk_data...\n",
            "[nltk_data]    |   Package treebank is already up-to-date!\n",
            "[nltk_data]    | Downloading package toolbox to /root/nltk_data...\n",
            "[nltk_data]    |   Package toolbox is already up-to-date!\n",
            "[nltk_data]    | Downloading package udhr to /root/nltk_data...\n",
            "[nltk_data]    |   Package udhr is already up-to-date!\n",
            "[nltk_data]    | Downloading package udhr2 to /root/nltk_data...\n",
            "[nltk_data]    |   Package udhr2 is already up-to-date!\n",
            "[nltk_data]    | Downloading package unicode_samples to\n",
            "[nltk_data]    |     /root/nltk_data...\n",
            "[nltk_data]    |   Package unicode_samples is already up-to-date!\n",
            "[nltk_data]    | Downloading package webtext to /root/nltk_data...\n",
            "[nltk_data]    |   Package webtext is already up-to-date!\n",
            "[nltk_data]    | Downloading package wordnet to /root/nltk_data...\n",
            "[nltk_data]    |   Package wordnet is already up-to-date!\n",
            "[nltk_data]    | Downloading package wordnet_ic to /root/nltk_data...\n",
            "[nltk_data]    |   Package wordnet_ic is already up-to-date!\n",
            "[nltk_data]    | Downloading package words to /root/nltk_data...\n",
            "[nltk_data]    |   Package words is already up-to-date!\n",
            "[nltk_data]    | Downloading package maxent_treebank_pos_tagger to\n",
            "[nltk_data]    |     /root/nltk_data...\n",
            "[nltk_data]    |   Package maxent_treebank_pos_tagger is already up-\n",
            "[nltk_data]    |       to-date!\n",
            "[nltk_data]    | Downloading package maxent_ne_chunker to\n",
            "[nltk_data]    |     /root/nltk_data...\n",
            "[nltk_data]    |   Package maxent_ne_chunker is already up-to-date!\n",
            "[nltk_data]    | Downloading package universal_tagset to\n",
            "[nltk_data]    |     /root/nltk_data...\n",
            "[nltk_data]    |   Package universal_tagset is already up-to-date!\n",
            "[nltk_data]    | Downloading package punkt to /root/nltk_data...\n",
            "[nltk_data]    |   Package punkt is already up-to-date!\n",
            "[nltk_data]    | Downloading package book_grammars to\n",
            "[nltk_data]    |     /root/nltk_data...\n",
            "[nltk_data]    |   Package book_grammars is already up-to-date!\n",
            "[nltk_data]    | Downloading package city_database to\n",
            "[nltk_data]    |     /root/nltk_data...\n",
            "[nltk_data]    |   Package city_database is already up-to-date!\n",
            "[nltk_data]    | Downloading package tagsets to /root/nltk_data...\n",
            "[nltk_data]    |   Package tagsets is already up-to-date!\n",
            "[nltk_data]    | Downloading package panlex_swadesh to\n",
            "[nltk_data]    |     /root/nltk_data...\n",
            "[nltk_data]    |   Package panlex_swadesh is already up-to-date!\n",
            "[nltk_data]    | Downloading package averaged_perceptron_tagger to\n",
            "[nltk_data]    |     /root/nltk_data...\n",
            "[nltk_data]    |   Package averaged_perceptron_tagger is already up-\n",
            "[nltk_data]    |       to-date!\n",
            "[nltk_data]    | \n",
            "[nltk_data]  Done downloading collection book\n"
          ]
        }
      ]
    },
    {
      "cell_type": "code",
      "source": [
        "# Step 2: Choose your texts (選擇3個文本)\n",
        "# text1 (Moby Dick - Literary novel)\n",
        "# text4 (Inaugural Address Corpus, 政治演說)\n",
        "# text5 (Chat Corpus, 網路口語)\n",
        "from nltk.book import*\n",
        "texts = [text1, text4, text5]\n"
      ],
      "metadata": {
        "id": "jrvDHtQW8Mzl"
      },
      "execution_count": null,
      "outputs": []
    },
    {
      "cell_type": "code",
      "source": [
        "#  Step 2: Choose your Vocabulary (選擇上週Google Ngram Viewer分析的詞彙)\n",
        "# Example \"freedom\", 'love', 'America'\n"
      ],
      "metadata": {
        "id": "gBUGqKbb8Ycd"
      },
      "execution_count": null,
      "outputs": []
    },
    {
      "cell_type": "code",
      "source": [
        "# (A) Word Frequencies (詞頻分析)\n",
        "# Count occurrences of your chosen word:\n",
        "for t in texts:\n",
        "   print(f\"Occurrences of 'freedom' in {t.name}: {t.count('freedom')}\")\n",
        "\n"
      ],
      "metadata": {
        "id": "vGg5XAd88s9l",
        "colab": {
          "base_uri": "https://localhost:8080/"
        },
        "outputId": "a0b41bb5-4f29-48c5-be51-4428b7dca81d"
      },
      "execution_count": null,
      "outputs": [
        {
          "output_type": "stream",
          "name": "stdout",
          "text": [
            "Occurrences of 'freedom' in Moby Dick by Herman Melville 1851: 2\n",
            "Occurrences of 'freedom' in Inaugural Address Corpus: 183\n",
            "Occurrences of 'freedom' in Chat Corpus: 0\n"
          ]
        }
      ]
    },
    {
      "cell_type": "code",
      "source": [
        "# Step 3: Concordance (上下文查詢)\n",
        "# This allows you to analyze how the meaning or context changes across different texts.\n",
        "\n",
        "\n",
        "for t in texts:\n",
        "    print(f\"\\nConcordance for 'freedom' in {t.name}:\")\n",
        "    t.concordance('freedom')\n"
      ],
      "metadata": {
        "id": "J_T01ZWE822l",
        "colab": {
          "base_uri": "https://localhost:8080/"
        },
        "outputId": "5f660768-8761-406d-9c80-645a9770b772"
      },
      "execution_count": null,
      "outputs": [
        {
          "output_type": "stream",
          "name": "stdout",
          "text": [
            "\n",
            "Concordance for 'freedom' in Moby Dick by Herman Melville 1851:\n",
            "Displaying 2 of 2 matches:\n",
            " pass that Gabriel had the complete freedom of the ship . The consequence of al\n",
            "illumination . See with what entire freedom the whaleman takes his handful of l\n",
            "\n",
            "Concordance for 'freedom' in Inaugural Address Corpus:\n",
            "Displaying 25 of 192 matches:\n",
            "s at the bar of the public reason ; freedom of religion ; freedom of the press \n",
            "blic reason ; freedom of religion ; freedom of the press , and freedom of perso\n",
            "ligion ; freedom of the press , and freedom of person under the protection of t\n",
            "e instrumental to the happiness and freedom of all . Relying , then , on the pa\n",
            "s of an institution so important to freedom and science are deeply to be regret\n",
            " be fairly and fully made , whether freedom of discussion , unaided by power , \n",
            "te and personal rights , and of the freedom of the press ; to observe economy i\n",
            "rdinary lot of humanity secured the freedom and happiness of this people . We n\n",
            "s inseparable from the enjoyment of freedom , but which have more than once app\n",
            " the abuse of power consists in the freedom , the purity , and the frequency of\n",
            "ation to the civil power ; that the freedom of the press and of religious opini\n",
            " own ; to cherish the principles of freedom and of equal rights wherever they w\n",
            "l Government into conflict with the freedom of elections , and the counteractio\n",
            "f appointment more independence and freedom from such influences might be expec\n",
            "e it might exert in controlling the freedom of the elective franchise . If such\n",
            "of the Executive in controlling the freedom of the elective franchise through t\n",
            " from the mother country that \" the freedom of the press is the great bulwark o\n",
            "the people as the genuine spirit of freedom , and , like the false Christs whos\n",
            "by the gifts of civil and religious freedom , who watched over and prospered th\n",
            " , which have been the offspring of freedom , and not of power . This most admi\n",
            "ween church and state , and perfect freedom of opinion is guaranteed to all sec\n",
            "o circumscribed the limits of human freedom and planted their standard , where \n",
            "encouragement and potent appeal for freedom will be its own history -- its tria\n",
            "ur sympathies in the cause of human freedom and universal advancement . But the\n",
            "this Constitution the boundaries of freedom have been enlarged , the foundation\n",
            "\n",
            "Concordance for 'freedom' in Chat Corpus:\n",
            "no matches\n"
          ]
        }
      ]
    },
    {
      "cell_type": "code",
      "source": [
        "# Step 4: Lexical Diversity (詞彙豐富度)\n",
        "# The closer to 1, the higher the diversity (豐富度越接近1，表示詞彙豐富度越高).\n",
        "\n",
        "# Calculate lexical diversity of each chosen text:\n",
        "\n",
        "def lexical_diversity(text):\n",
        "    return len(set(text)) / len(text)\n",
        "\n",
        "for t in texts:\n",
        "    diversity = len(set(t)) / len(t)\n",
        "    print(f\"Lexical Diversity of {t.name}: {diversity:.4f}\")\n"
      ],
      "metadata": {
        "id": "xCEgN5jz9DD9",
        "colab": {
          "base_uri": "https://localhost:8080/"
        },
        "outputId": "98781cd5-43e4-4d6d-f7ec-aee19d236721"
      },
      "execution_count": null,
      "outputs": [
        {
          "output_type": "stream",
          "name": "stdout",
          "text": [
            "Lexical Diversity of Moby Dick by Herman Melville 1851: 0.0741\n",
            "Lexical Diversity of Inaugural Address Corpus: 0.0653\n",
            "Lexical Diversity of Chat Corpus: 0.1348\n"
          ]
        }
      ]
    },
    {
      "cell_type": "code",
      "source": [
        "#  Step 4: N-gram Analysis (N-gram分析)\n",
        "# Analyze frequent bigrams (2-grams) in each text:\n",
        "\n",
        "for t in texts:\n",
        "    print(f\"\\nTop 10 bigrams in {t.name}:\")\n",
        "    bigrams = list(nltk.bigrams(t))\n",
        "    fdist = nltk.FreqDist(bigrams)\n",
        "    print(fdist.most_common(10))\n"
      ],
      "metadata": {
        "id": "_N_Ymhnh9NK9",
        "colab": {
          "base_uri": "https://localhost:8080/"
        },
        "outputId": "e1293b4f-5547-4301-885b-a0ec3720275f"
      },
      "execution_count": null,
      "outputs": [
        {
          "output_type": "stream",
          "name": "stdout",
          "text": [
            "\n",
            "Top 10 bigrams in Moby Dick by Herman Melville 1851:\n",
            "[((',', 'and'), 2607), (('of', 'the'), 1847), ((\"'\", 's'), 1737), (('in', 'the'), 1120), ((',', 'the'), 908), ((';', 'and'), 853), (('to', 'the'), 712), (('.', 'But'), 596), ((',', 'that'), 584), (('.', '\"'), 557)]\n",
            "\n",
            "Top 10 bigrams in Inaugural Address Corpus:\n",
            "[(('of', 'the'), 1784), ((',', 'and'), 1404), (('in', 'the'), 765), (('to', 'the'), 716), (('of', 'our'), 635), (('.', 'The'), 606), (('.', 'We'), 562), (('and', 'the'), 470), ((',', 'the'), 388), (('.', 'It'), 354)]\n",
            "\n",
            "Top 10 bigrams in Chat Corpus:\n",
            "[(('.', 'ACTION'), 346), (('PART', 'JOIN'), 191), (('JOIN', 'PART'), 136), (('PART', 'PART'), 115), (('JOIN', 'JOIN'), 107), (('I', \"'m\"), 89), (('.', 'JOIN'), 79), (('pm', 'me'), 76), (('in', 'the'), 75), (('are', 'you'), 65)]\n"
          ]
        }
      ]
    },
    {
      "cell_type": "code",
      "source": [
        "# adapt to trigrams (3-grams)\n",
        "\n",
        "trigrams = list(nltk.trigrams(t))\n",
        "fdist = nltk.FreqDist(trigrams)\n",
        "print(fdist.most_common(10))\n"
      ],
      "metadata": {
        "id": "hIS2Y2aU9VkV",
        "colab": {
          "base_uri": "https://localhost:8080/"
        },
        "outputId": "b30963ef-7649-4b70-e760-bc3df1c2329b"
      },
      "execution_count": null,
      "outputs": [
        {
          "output_type": "stream",
          "name": "stdout",
          "text": [
            "[(('PART', 'JOIN', 'PART'), 35), (('JOIN', '.', 'ACTION'), 34), (('.', 'ACTION', 'is'), 33), (('JOIN', 'PART', 'JOIN'), 33), (('PART', 'JOIN', 'JOIN'), 25), (('?', '.', 'ACTION'), 25), (('PART', '.', 'ACTION'), 25), (('PART', 'PART', 'JOIN'), 23), (('18', '/', 'm'), 22), (('how', 'are', 'you'), 20)]\n"
          ]
        }
      ]
    }
  ]
}