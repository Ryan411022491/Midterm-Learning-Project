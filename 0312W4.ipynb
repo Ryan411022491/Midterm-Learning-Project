{
  "nbformat": 4,
  "nbformat_minor": 0,
  "metadata": {
    "colab": {
      "provenance": []
    },
    "kernelspec": {
      "name": "python3",
      "display_name": "Python 3"
    },
    "language_info": {
      "name": "python"
    }
  },
  "cells": [
    {
      "cell_type": "markdown",
      "source": [
        "**Python Basic Operations**\n",
        "\n",
        "Python 基本操作入門\n",
        "\n",
        "\n",
        "1.  Output & Input (輸出與輸入)\n",
        "2.  Data Types (資料型態)\n",
        "3.  Variables & Assignment (變數賦值)\n",
        "4.  Operators (運算子)\n",
        "5. Conditional Statements (條件判斷式)\n",
        "6. Loops (迴圈)\n",
        "7. Lists & Iterations (串列與迴圈操作)\n",
        "8. Functions (函式)\n",
        "9. Modules & Libraries (模組與函式庫)\n",
        "10. String Operations (字串操作)\n",
        "11. Dictionaries (字典操作)\n",
        "12. Installing packages with pip (安裝套件)\n",
        "13. Upload & Read Files (上傳與讀取檔案)\n",
        "14. 掛載Google Drive存取檔案\n"
      ],
      "metadata": {
        "id": "B32EBSWkCDhP"
      }
    },
    {
      "cell_type": "markdown",
      "source": [
        "**1. Output & Input (輸出與輸入)**\n",
        "輸出 (Output)\n",
        "\n"
      ],
      "metadata": {
        "id": "mTSao7mzCZtn"
      }
    },
    {
      "cell_type": "code",
      "execution_count": 1,
      "metadata": {
        "id": "3VPPJidVB-w7",
        "colab": {
          "base_uri": "https://localhost:8080/"
        },
        "outputId": "fd60e699-90ec-4b79-898f-0d4f97f7efa8"
      },
      "outputs": [
        {
          "output_type": "stream",
          "name": "stdout",
          "text": [
            "Hello, Python!\n"
          ]
        }
      ],
      "source": [
        "print(\"Hello, Python!\")\n"
      ]
    },
    {
      "cell_type": "code",
      "source": [
        "name = input(\"Enter your name: \")\n",
        "print(f\"Hello, {name}\")\n"
      ],
      "metadata": {
        "id": "u1c7Wvv3Ci7G",
        "colab": {
          "base_uri": "https://localhost:8080/"
        },
        "outputId": "72f262da-1492-43f0-d6a8-de31dee2ac6b"
      },
      "execution_count": 2,
      "outputs": [
        {
          "output_type": "stream",
          "name": "stdout",
          "text": [
            "Enter your name: Ryan\n",
            "Hello, Ryan\n"
          ]
        }
      ]
    },
    {
      "cell_type": "markdown",
      "source": [
        "**2. Data Types (資料型態)**\n",
        "\n",
        "Integer(整數):\tx = 5\n",
        "\n",
        "Float(浮點數):\ty = 3.14\n",
        "\n",
        "String(字串):\ts = \"Hello\"\n",
        "\n",
        "Boolean(布林值 (True/False)):\tb = True\n",
        "\n",
        "List(串列):\tlst = [1,2,3]\n",
        "\n",
        "Tuple(元組 (不可修改)):\tt = (1, 'a', 3)\n",
        "\n",
        "Dict(字典):\td = {'x': 1}"
      ],
      "metadata": {
        "id": "Jy1NgcUVCla-"
      }
    },
    {
      "cell_type": "markdown",
      "source": [
        "We can use **type** to check of which type a variable is."
      ],
      "metadata": {
        "id": "j20ljlybp4BJ"
      }
    },
    {
      "cell_type": "code",
      "source": [
        "# Example (範例):\n",
        "print(type(5))          # int\n",
        "print(type(\"Hello\"))    # str\n",
        "\n"
      ],
      "metadata": {
        "id": "almglCK2C9rH",
        "colab": {
          "base_uri": "https://localhost:8080/"
        },
        "outputId": "9bda873e-7930-4982-d5d7-4e147c3ab2bb"
      },
      "execution_count": 3,
      "outputs": [
        {
          "output_type": "stream",
          "name": "stdout",
          "text": [
            "<class 'int'>\n",
            "<class 'str'>\n"
          ]
        }
      ]
    },
    {
      "cell_type": "markdown",
      "source": [
        "**3.  Variables & Assignment (變數賦值)**\n"
      ],
      "metadata": {
        "id": "TfGyaIqiDPEW"
      }
    },
    {
      "cell_type": "code",
      "source": [
        "# 基本變數設定與使用\n",
        "x = 10\n",
        "y = \"hello\"\n",
        "print(x, y)"
      ],
      "metadata": {
        "id": "db-SSZPrEXRO",
        "colab": {
          "base_uri": "https://localhost:8080/"
        },
        "outputId": "77032cce-83c3-40d1-9e68-e8c0d0508e80"
      },
      "execution_count": 4,
      "outputs": [
        {
          "output_type": "stream",
          "name": "stdout",
          "text": [
            "10 hello\n"
          ]
        }
      ]
    },
    {
      "cell_type": "code",
      "source": [
        "name = \"Alice\"\n",
        "age = 30\n",
        "print(name, age)\n"
      ],
      "metadata": {
        "id": "NOfmQScyDTN_",
        "colab": {
          "base_uri": "https://localhost:8080/"
        },
        "outputId": "bbac43e9-cb00-46c0-bc6f-a3298079f35a"
      },
      "execution_count": 5,
      "outputs": [
        {
          "output_type": "stream",
          "name": "stdout",
          "text": [
            "Alice 30\n"
          ]
        }
      ]
    },
    {
      "cell_type": "markdown",
      "source": [
        "The name is a string, and age is an integer; we can use f-string to print variables."
      ],
      "metadata": {
        "id": "GED6CNbMpFJi"
      }
    },
    {
      "cell_type": "code",
      "source": [
        "print(f'{name} is {age}')"
      ],
      "metadata": {
        "id": "PtSygi8ko_4C",
        "colab": {
          "base_uri": "https://localhost:8080/"
        },
        "outputId": "b2db3959-33aa-4d01-e5de-1759f88a3274"
      },
      "execution_count": 7,
      "outputs": [
        {
          "output_type": "stream",
          "name": "stdout",
          "text": [
            "Alice is 30\n"
          ]
        }
      ]
    },
    {
      "cell_type": "markdown",
      "source": [
        "**4. Operators (運算子)**"
      ],
      "metadata": {
        "id": "sXed2RVrDaxv"
      }
    },
    {
      "cell_type": "code",
      "source": [
        "# Arithmetic Operator / 算術運算子\n",
        "print(8 + 9)\n",
        "print(6 - 4)\n",
        "print(9 * 9)\n",
        "print(77 / 7)\n",
        "print(89 % 64)\n"
      ],
      "metadata": {
        "id": "9zpl-A4XDe9P",
        "colab": {
          "base_uri": "https://localhost:8080/"
        },
        "outputId": "bc786fcd-d5f1-40c7-cc75-622f60883180"
      },
      "execution_count": 10,
      "outputs": [
        {
          "output_type": "stream",
          "name": "stdout",
          "text": [
            "17\n",
            "2\n",
            "81\n",
            "11.0\n",
            "25\n"
          ]
        }
      ]
    },
    {
      "cell_type": "code",
      "source": [
        "a, b = 6, 4\n",
        "\n",
        "print(a + b)\n",
        "print(a % b)\n",
        "print(a // b)\n",
        "print(a ** b)\n"
      ],
      "metadata": {
        "id": "qYKxhAKBrGjK",
        "colab": {
          "base_uri": "https://localhost:8080/"
        },
        "outputId": "cfda5bb2-40f2-4f5c-9e84-74fc418f1e89"
      },
      "execution_count": 11,
      "outputs": [
        {
          "output_type": "stream",
          "name": "stdout",
          "text": [
            "10\n",
            "2\n",
            "1\n",
            "1296\n"
          ]
        }
      ]
    },
    {
      "cell_type": "markdown",
      "source": [
        "Comparison Operators: Comparing two values and evaluate down to a single **Boolean** value.\n",
        "\n"
      ],
      "metadata": {
        "id": "Qx58ATKtSBTQ"
      }
    },
    {
      "cell_type": "code",
      "source": [
        "# Comparison Operators / 比較運算\n",
        "# ==  Equal to\n",
        "# !=  Not equal to\n",
        "# < Less than\n",
        "# > Greater than\n",
        "# <=  Less than or equal to\n",
        "# >=  Greater than or equal to\n"
      ],
      "metadata": {
        "id": "pXmjlZhADrem"
      },
      "execution_count": 12,
      "outputs": []
    },
    {
      "cell_type": "code",
      "source": [
        "5 > 3"
      ],
      "metadata": {
        "id": "UOte9CLfT--g",
        "colab": {
          "base_uri": "https://localhost:8080/"
        },
        "outputId": "9d00cbde-9ec0-4ba9-8a0b-32439a1dc9c1"
      },
      "execution_count": 13,
      "outputs": [
        {
          "output_type": "execute_result",
          "data": {
            "text/plain": [
              "True"
            ]
          },
          "metadata": {},
          "execution_count": 13
        }
      ]
    },
    {
      "cell_type": "code",
      "source": [
        "5 == 6"
      ],
      "metadata": {
        "id": "mAGbFZP7T5zg",
        "colab": {
          "base_uri": "https://localhost:8080/"
        },
        "outputId": "0a7c63be-57ed-43e0-9b73-b3311102cf22"
      },
      "execution_count": 14,
      "outputs": [
        {
          "output_type": "execute_result",
          "data": {
            "text/plain": [
              "False"
            ]
          },
          "metadata": {},
          "execution_count": 14
        }
      ]
    },
    {
      "cell_type": "code",
      "source": [
        "print(5 > 3)      # True\n",
        "print(5 == 6)     # False"
      ],
      "metadata": {
        "id": "3di-l_vhTzqA",
        "colab": {
          "base_uri": "https://localhost:8080/"
        },
        "outputId": "70e38353-a090-4527-967a-ec1fb85c51a2"
      },
      "execution_count": 15,
      "outputs": [
        {
          "output_type": "stream",
          "name": "stdout",
          "text": [
            "True\n",
            "False\n"
          ]
        }
      ]
    },
    {
      "cell_type": "code",
      "source": [
        "'hello' == 'hello'"
      ],
      "metadata": {
        "id": "D9zKbg-uUEu4",
        "colab": {
          "base_uri": "https://localhost:8080/"
        },
        "outputId": "6927cac6-3bc5-44b9-acc5-19d876302516"
      },
      "execution_count": 16,
      "outputs": [
        {
          "output_type": "execute_result",
          "data": {
            "text/plain": [
              "True"
            ]
          },
          "metadata": {},
          "execution_count": 16
        }
      ]
    },
    {
      "cell_type": "code",
      "source": [
        "42 == '42'"
      ],
      "metadata": {
        "id": "5-3BY33KUHgI",
        "colab": {
          "base_uri": "https://localhost:8080/"
        },
        "outputId": "5672082a-5cac-45a8-f7e9-f21b7eff9e27"
      },
      "execution_count": 17,
      "outputs": [
        {
          "output_type": "execute_result",
          "data": {
            "text/plain": [
              "False"
            ]
          },
          "metadata": {},
          "execution_count": 17
        }
      ]
    },
    {
      "cell_type": "markdown",
      "source": [
        "**5. Conditional Statements (條件判斷式)**"
      ],
      "metadata": {
        "id": "daIwrkdsEkE3"
      }
    },
    {
      "cell_type": "code",
      "source": [
        "# if, elif, else\n",
        "\n",
        "score = 70\n",
        "if score >= 60:\n",
        "    print(\"Pass\")\n",
        "else:\n",
        "    print(\"Fail\")\n",
        "\n"
      ],
      "metadata": {
        "id": "igGaFy6bEpkH",
        "colab": {
          "base_uri": "https://localhost:8080/"
        },
        "outputId": "f43b2e3e-3651-48ff-c6c3-3cbf0e70aea3"
      },
      "execution_count": 18,
      "outputs": [
        {
          "output_type": "stream",
          "name": "stdout",
          "text": [
            "Pass\n"
          ]
        }
      ]
    },
    {
      "cell_type": "code",
      "source": [
        "score = 85\n",
        "\n",
        "if score >= 90:\n",
        "    print('A')\n",
        "elif score >= 80:\n",
        "    print('B')\n",
        "else:\n",
        "    print('C or below')\n"
      ],
      "metadata": {
        "id": "MSB8yo28rR8i",
        "colab": {
          "base_uri": "https://localhost:8080/"
        },
        "outputId": "5e3b1b7b-f107-4d97-f7c2-9c1c2c5d92a1"
      },
      "execution_count": 19,
      "outputs": [
        {
          "output_type": "stream",
          "name": "stdout",
          "text": [
            "B\n"
          ]
        }
      ]
    },
    {
      "cell_type": "markdown",
      "source": [
        " **6. Loops (迴圈)**"
      ],
      "metadata": {
        "id": "jmaA1txbEw5n"
      }
    },
    {
      "cell_type": "code",
      "source": [
        "# For 迴圈\n",
        "for i in range(5):\n",
        "    print(i)\n",
        "\n"
      ],
      "metadata": {
        "id": "MG5nhHt8E7I3",
        "colab": {
          "base_uri": "https://localhost:8080/"
        },
        "outputId": "c607c6f9-508b-4b7f-a26a-9e7f650460bf"
      },
      "execution_count": 20,
      "outputs": [
        {
          "output_type": "stream",
          "name": "stdout",
          "text": [
            "0\n",
            "1\n",
            "2\n",
            "3\n",
            "4\n"
          ]
        }
      ]
    },
    {
      "cell_type": "code",
      "source": [
        "# While 迴圈\n",
        "i = 0\n",
        "while i < 5:\n",
        "    print(i)\n",
        "    i += 1\n",
        "\n"
      ],
      "metadata": {
        "id": "qkq6NV-RFCq3",
        "colab": {
          "base_uri": "https://localhost:8080/"
        },
        "outputId": "a0adfa47-7be5-4bdc-c300-b860b58ea710"
      },
      "execution_count": 21,
      "outputs": [
        {
          "output_type": "stream",
          "name": "stdout",
          "text": [
            "0\n",
            "1\n",
            "2\n",
            "3\n",
            "4\n"
          ]
        }
      ]
    },
    {
      "cell_type": "markdown",
      "source": [
        " **7. Lists & Iterations (串列與迴圈操作)**"
      ],
      "metadata": {
        "id": "GdUGSKBlFHJG"
      }
    },
    {
      "cell_type": "markdown",
      "source": [
        "定義串列、存取元素、迴圈存取："
      ],
      "metadata": {
        "id": "yjn41UkjFLeP"
      }
    },
    {
      "cell_type": "code",
      "source": [
        "fruits = ['apple', 'banana', 'orange']\n",
        "\n",
        "# 存取單一元素\n",
        "print(fruits[0])    # apple\n",
        "\n",
        "# 使用 for 迴圈\n",
        "for fruit in fruits:\n",
        "    print(fruit)\n"
      ],
      "metadata": {
        "id": "dpeh0U8tFg0v",
        "colab": {
          "base_uri": "https://localhost:8080/"
        },
        "outputId": "c1fc4f8c-5b1c-4c17-e6f9-61eb04a2ebe8"
      },
      "execution_count": 22,
      "outputs": [
        {
          "output_type": "stream",
          "name": "stdout",
          "text": [
            "apple\n",
            "apple\n",
            "banana\n",
            "orange\n"
          ]
        }
      ]
    },
    {
      "cell_type": "markdown",
      "source": [
        "**8. Functions (函式)**\n",
        "\n",
        "自訂函式定義："
      ],
      "metadata": {
        "id": "qIPRd0MHFou-"
      }
    },
    {
      "cell_type": "code",
      "source": [
        "# 自訂函式定義：\n",
        "\n",
        "def add(a, b):\n",
        "    return a + b\n",
        "\n",
        "print(add(5, 3))   # 8\n"
      ],
      "metadata": {
        "id": "ziWRklV6Ft2f",
        "colab": {
          "base_uri": "https://localhost:8080/"
        },
        "outputId": "6ad185c4-e5e1-4a5a-df87-dec384477138"
      },
      "execution_count": 23,
      "outputs": [
        {
          "output_type": "stream",
          "name": "stdout",
          "text": [
            "8\n"
          ]
        }
      ]
    },
    {
      "cell_type": "markdown",
      "source": [
        "**9. Modules & Libraries (模組與函式庫)**"
      ],
      "metadata": {
        "id": "lxjebN0XF-Qn"
      }
    },
    {
      "cell_type": "code",
      "source": [
        "# 使用標準函式庫，例如 math：\n",
        "\n",
        "import math\n",
        "\n",
        "print(math.sqrt(16))   # 4.0\n"
      ],
      "metadata": {
        "id": "4qgyCPtpF1yX",
        "colab": {
          "base_uri": "https://localhost:8080/"
        },
        "outputId": "3e0611bd-5fbc-4ea2-a220-0c1ab92f9777"
      },
      "execution_count": 24,
      "outputs": [
        {
          "output_type": "stream",
          "name": "stdout",
          "text": [
            "4.0\n"
          ]
        }
      ]
    },
    {
      "cell_type": "markdown",
      "source": [
        "**10. String Operations (字串操作)**"
      ],
      "metadata": {
        "id": "f7AOVN9PGNUf"
      }
    },
    {
      "cell_type": "code",
      "source": [
        "# 常見字串操作：\n",
        "s = \"Hello, World!\"\n",
        "\n",
        "print(len(s))              # 長度\n",
        "print(s.upper())          # 大寫\n",
        "print(s.lower())          # 小寫\n",
        "print(s.split(\" \"))      # 分割\n"
      ],
      "metadata": {
        "id": "pC74e9sUGMzf",
        "colab": {
          "base_uri": "https://localhost:8080/"
        },
        "outputId": "73ece143-2dc9-4123-a699-90b120ebbbdf"
      },
      "execution_count": 25,
      "outputs": [
        {
          "output_type": "stream",
          "name": "stdout",
          "text": [
            "13\n",
            "HELLO, WORLD!\n",
            "hello, world!\n",
            "['Hello,', 'World!']\n"
          ]
        }
      ]
    },
    {
      "cell_type": "code",
      "source": [
        " # Changing Case (大小寫轉換)\n",
        "text = \"Hello, World!\"\n",
        "\n",
        "print(text.upper())  # HELLO, WORLD!\n",
        "print(text.lower())  # hello, world!"
      ],
      "metadata": {
        "id": "yTKYJkRxsLp6",
        "colab": {
          "base_uri": "https://localhost:8080/"
        },
        "outputId": "4ab203ec-c339-4d71-9cf9-acd9bbc955fa"
      },
      "execution_count": 26,
      "outputs": [
        {
          "output_type": "stream",
          "name": "stdout",
          "text": [
            "HELLO, WORLD!\n",
            "hello, world!\n"
          ]
        }
      ]
    },
    {
      "cell_type": "code",
      "source": [
        "#  Splitting Strings (分割字串)\n",
        "sentence = \"This is a Python tutorial\"\n",
        "words = sentence.split(' ')   # Split by spaces\n",
        "print(words)             # ['Hello,', 'World!']\n"
      ],
      "metadata": {
        "id": "JidFxrR7sde6",
        "colab": {
          "base_uri": "https://localhost:8080/"
        },
        "outputId": "c47d035b-f293-4829-e0a0-8a037b1ee735"
      },
      "execution_count": 27,
      "outputs": [
        {
          "output_type": "stream",
          "name": "stdout",
          "text": [
            "['This', 'is', 'a', 'Python', 'tutorial']\n"
          ]
        }
      ]
    },
    {
      "cell_type": "code",
      "source": [
        "# Joining Strings (連結字串)\n",
        "words = ['Hello', 'Python', 'world']\n",
        "sentence = ' '.join(words)\n",
        "print(sentence)   # 'Hello Python world'\n"
      ],
      "metadata": {
        "id": "BdPgFdKmsoNB",
        "colab": {
          "base_uri": "https://localhost:8080/"
        },
        "outputId": "eb50e047-4fef-4fbd-a48f-c24175235b8e"
      },
      "execution_count": 28,
      "outputs": [
        {
          "output_type": "stream",
          "name": "stdout",
          "text": [
            "Hello Python world\n"
          ]
        }
      ]
    },
    {
      "cell_type": "code",
      "source": [
        "# String Length (字串長度)\n",
        "text = \"Hello, Python\"\n",
        "print(len(text))   # 13\n"
      ],
      "metadata": {
        "id": "21vAl1Ges8zy",
        "colab": {
          "base_uri": "https://localhost:8080/"
        },
        "outputId": "1b55d21d-c2d7-41c8-b8db-dc797a2a4a6c"
      },
      "execution_count": 29,
      "outputs": [
        {
          "output_type": "stream",
          "name": "stdout",
          "text": [
            "13\n"
          ]
        }
      ]
    },
    {
      "cell_type": "code",
      "source": [
        "# String indexing and slicing (字串索引與切片)\n",
        "text = \"Hello, World!\"\n",
        "print(text[0])          # 'H' (first character)\n",
        "print(text[-1])         # '!' (last character)\n",
        "print(text[0:5])        # 'Hello' (slice from index 0 to 4)\n"
      ],
      "metadata": {
        "id": "05SUJE-ds3tC",
        "colab": {
          "base_uri": "https://localhost:8080/"
        },
        "outputId": "fddd9ca4-0b18-491d-f7c5-428ae023eb8a"
      },
      "execution_count": 30,
      "outputs": [
        {
          "output_type": "stream",
          "name": "stdout",
          "text": [
            "H\n",
            "!\n",
            "Hello\n"
          ]
        }
      ]
    },
    {
      "cell_type": "code",
      "source": [
        "# Removing whitespace (去除空白)\n",
        "text = \"   Python   \"\n",
        "print(text.strip())      # 'Python'\n"
      ],
      "metadata": {
        "id": "m-ieNR31tHX6",
        "colab": {
          "base_uri": "https://localhost:8080/"
        },
        "outputId": "d3840f82-2a9d-4e0a-b9ff-691b849594bb"
      },
      "execution_count": 31,
      "outputs": [
        {
          "output_type": "stream",
          "name": "stdout",
          "text": [
            "Python\n"
          ]
        }
      ]
    },
    {
      "cell_type": "code",
      "source": [
        "# String formatting (字串格式化)\n",
        "name = \"Alice\"\n",
        "age = 25\n",
        "print(f\"My name is {name} and I'm {age} years old.\")\n"
      ],
      "metadata": {
        "id": "6RR35bovtOWa",
        "colab": {
          "base_uri": "https://localhost:8080/"
        },
        "outputId": "9a005888-b3bb-437d-ee72-c3d219ad3560"
      },
      "execution_count": 32,
      "outputs": [
        {
          "output_type": "stream",
          "name": "stdout",
          "text": [
            "My name is Alice and I'm 25 years old.\n"
          ]
        }
      ]
    },
    {
      "cell_type": "markdown",
      "source": [
        "**11. Dictionaries (字典操作)**"
      ],
      "metadata": {
        "id": "zOwfeIlmGeDH"
      }
    },
    {
      "cell_type": "code",
      "source": [
        "# 基本用法：\n",
        "\n",
        "student = {'name': 'Tom', 'age': 20}\n",
        "\n",
        "print(student['name'])        # Tom\n",
        "student['age'] = 21           # 修改值\n"
      ],
      "metadata": {
        "id": "wU2_LkZkGl2v",
        "colab": {
          "base_uri": "https://localhost:8080/"
        },
        "outputId": "90f92ef3-6d24-46eb-80a8-f529d400d45f"
      },
      "execution_count": 33,
      "outputs": [
        {
          "output_type": "stream",
          "name": "stdout",
          "text": [
            "Tom\n"
          ]
        }
      ]
    },
    {
      "cell_type": "markdown",
      "source": [
        "**12. Installing packages with pip (安裝套件)**\n",
        "\n",
        "用 ! 開頭安裝："
      ],
      "metadata": {
        "id": "u0G4_7GgHSlX"
      }
    },
    {
      "cell_type": "code",
      "source": [
        "!pip install nltk\n",
        "!pip install requests\n"
      ],
      "metadata": {
        "id": "LVb8wzQqIYBv",
        "colab": {
          "base_uri": "https://localhost:8080/"
        },
        "outputId": "2c5dedb3-239d-41b0-fdd1-96b1d10dd1a7"
      },
      "execution_count": 34,
      "outputs": [
        {
          "output_type": "stream",
          "name": "stdout",
          "text": [
            "Requirement already satisfied: nltk in /usr/local/lib/python3.11/dist-packages (3.9.1)\n",
            "Requirement already satisfied: click in /usr/local/lib/python3.11/dist-packages (from nltk) (8.1.8)\n",
            "Requirement already satisfied: joblib in /usr/local/lib/python3.11/dist-packages (from nltk) (1.4.2)\n",
            "Requirement already satisfied: regex>=2021.8.3 in /usr/local/lib/python3.11/dist-packages (from nltk) (2024.11.6)\n",
            "Requirement already satisfied: tqdm in /usr/local/lib/python3.11/dist-packages (from nltk) (4.67.1)\n",
            "Requirement already satisfied: requests in /usr/local/lib/python3.11/dist-packages (2.32.3)\n",
            "Requirement already satisfied: charset-normalizer<4,>=2 in /usr/local/lib/python3.11/dist-packages (from requests) (3.4.1)\n",
            "Requirement already satisfied: idna<4,>=2.5 in /usr/local/lib/python3.11/dist-packages (from requests) (3.10)\n",
            "Requirement already satisfied: urllib3<3,>=1.21.1 in /usr/local/lib/python3.11/dist-packages (from requests) (2.3.0)\n",
            "Requirement already satisfied: certifi>=2017.4.17 in /usr/local/lib/python3.11/dist-packages (from requests) (2025.1.31)\n"
          ]
        }
      ]
    },
    {
      "cell_type": "markdown",
      "source": [
        "**13. Upload & Read Files (上傳與讀取檔案) **"
      ],
      "metadata": {
        "id": "imR75YeIJF6_"
      }
    },
    {
      "cell_type": "code",
      "source": [
        "# 上傳檔案到Colab：\n",
        "from google.colab import files\n",
        "uploaded = files.upload()\n",
        "\n"
      ],
      "metadata": {
        "id": "k9KXRYLqI-S_",
        "colab": {
          "base_uri": "https://localhost:8080/",
          "height": 41
        },
        "outputId": "e46a53b9-e199-4c58-920a-87459cfa4dfe"
      },
      "execution_count": 35,
      "outputs": [
        {
          "output_type": "display_data",
          "data": {
            "text/plain": [
              "<IPython.core.display.HTML object>"
            ],
            "text/html": [
              "\n",
              "     <input type=\"file\" id=\"files-1c98ba1e-4672-4432-96c9-e7ea43070b54\" name=\"files[]\" multiple disabled\n",
              "        style=\"border:none\" />\n",
              "     <output id=\"result-1c98ba1e-4672-4432-96c9-e7ea43070b54\">\n",
              "      Upload widget is only available when the cell has been executed in the\n",
              "      current browser session. Please rerun this cell to enable.\n",
              "      </output>\n",
              "      <script>// Copyright 2017 Google LLC\n",
              "//\n",
              "// Licensed under the Apache License, Version 2.0 (the \"License\");\n",
              "// you may not use this file except in compliance with the License.\n",
              "// You may obtain a copy of the License at\n",
              "//\n",
              "//      http://www.apache.org/licenses/LICENSE-2.0\n",
              "//\n",
              "// Unless required by applicable law or agreed to in writing, software\n",
              "// distributed under the License is distributed on an \"AS IS\" BASIS,\n",
              "// WITHOUT WARRANTIES OR CONDITIONS OF ANY KIND, either express or implied.\n",
              "// See the License for the specific language governing permissions and\n",
              "// limitations under the License.\n",
              "\n",
              "/**\n",
              " * @fileoverview Helpers for google.colab Python module.\n",
              " */\n",
              "(function(scope) {\n",
              "function span(text, styleAttributes = {}) {\n",
              "  const element = document.createElement('span');\n",
              "  element.textContent = text;\n",
              "  for (const key of Object.keys(styleAttributes)) {\n",
              "    element.style[key] = styleAttributes[key];\n",
              "  }\n",
              "  return element;\n",
              "}\n",
              "\n",
              "// Max number of bytes which will be uploaded at a time.\n",
              "const MAX_PAYLOAD_SIZE = 100 * 1024;\n",
              "\n",
              "function _uploadFiles(inputId, outputId) {\n",
              "  const steps = uploadFilesStep(inputId, outputId);\n",
              "  const outputElement = document.getElementById(outputId);\n",
              "  // Cache steps on the outputElement to make it available for the next call\n",
              "  // to uploadFilesContinue from Python.\n",
              "  outputElement.steps = steps;\n",
              "\n",
              "  return _uploadFilesContinue(outputId);\n",
              "}\n",
              "\n",
              "// This is roughly an async generator (not supported in the browser yet),\n",
              "// where there are multiple asynchronous steps and the Python side is going\n",
              "// to poll for completion of each step.\n",
              "// This uses a Promise to block the python side on completion of each step,\n",
              "// then passes the result of the previous step as the input to the next step.\n",
              "function _uploadFilesContinue(outputId) {\n",
              "  const outputElement = document.getElementById(outputId);\n",
              "  const steps = outputElement.steps;\n",
              "\n",
              "  const next = steps.next(outputElement.lastPromiseValue);\n",
              "  return Promise.resolve(next.value.promise).then((value) => {\n",
              "    // Cache the last promise value to make it available to the next\n",
              "    // step of the generator.\n",
              "    outputElement.lastPromiseValue = value;\n",
              "    return next.value.response;\n",
              "  });\n",
              "}\n",
              "\n",
              "/**\n",
              " * Generator function which is called between each async step of the upload\n",
              " * process.\n",
              " * @param {string} inputId Element ID of the input file picker element.\n",
              " * @param {string} outputId Element ID of the output display.\n",
              " * @return {!Iterable<!Object>} Iterable of next steps.\n",
              " */\n",
              "function* uploadFilesStep(inputId, outputId) {\n",
              "  const inputElement = document.getElementById(inputId);\n",
              "  inputElement.disabled = false;\n",
              "\n",
              "  const outputElement = document.getElementById(outputId);\n",
              "  outputElement.innerHTML = '';\n",
              "\n",
              "  const pickedPromise = new Promise((resolve) => {\n",
              "    inputElement.addEventListener('change', (e) => {\n",
              "      resolve(e.target.files);\n",
              "    });\n",
              "  });\n",
              "\n",
              "  const cancel = document.createElement('button');\n",
              "  inputElement.parentElement.appendChild(cancel);\n",
              "  cancel.textContent = 'Cancel upload';\n",
              "  const cancelPromise = new Promise((resolve) => {\n",
              "    cancel.onclick = () => {\n",
              "      resolve(null);\n",
              "    };\n",
              "  });\n",
              "\n",
              "  // Wait for the user to pick the files.\n",
              "  const files = yield {\n",
              "    promise: Promise.race([pickedPromise, cancelPromise]),\n",
              "    response: {\n",
              "      action: 'starting',\n",
              "    }\n",
              "  };\n",
              "\n",
              "  cancel.remove();\n",
              "\n",
              "  // Disable the input element since further picks are not allowed.\n",
              "  inputElement.disabled = true;\n",
              "\n",
              "  if (!files) {\n",
              "    return {\n",
              "      response: {\n",
              "        action: 'complete',\n",
              "      }\n",
              "    };\n",
              "  }\n",
              "\n",
              "  for (const file of files) {\n",
              "    const li = document.createElement('li');\n",
              "    li.append(span(file.name, {fontWeight: 'bold'}));\n",
              "    li.append(span(\n",
              "        `(${file.type || 'n/a'}) - ${file.size} bytes, ` +\n",
              "        `last modified: ${\n",
              "            file.lastModifiedDate ? file.lastModifiedDate.toLocaleDateString() :\n",
              "                                    'n/a'} - `));\n",
              "    const percent = span('0% done');\n",
              "    li.appendChild(percent);\n",
              "\n",
              "    outputElement.appendChild(li);\n",
              "\n",
              "    const fileDataPromise = new Promise((resolve) => {\n",
              "      const reader = new FileReader();\n",
              "      reader.onload = (e) => {\n",
              "        resolve(e.target.result);\n",
              "      };\n",
              "      reader.readAsArrayBuffer(file);\n",
              "    });\n",
              "    // Wait for the data to be ready.\n",
              "    let fileData = yield {\n",
              "      promise: fileDataPromise,\n",
              "      response: {\n",
              "        action: 'continue',\n",
              "      }\n",
              "    };\n",
              "\n",
              "    // Use a chunked sending to avoid message size limits. See b/62115660.\n",
              "    let position = 0;\n",
              "    do {\n",
              "      const length = Math.min(fileData.byteLength - position, MAX_PAYLOAD_SIZE);\n",
              "      const chunk = new Uint8Array(fileData, position, length);\n",
              "      position += length;\n",
              "\n",
              "      const base64 = btoa(String.fromCharCode.apply(null, chunk));\n",
              "      yield {\n",
              "        response: {\n",
              "          action: 'append',\n",
              "          file: file.name,\n",
              "          data: base64,\n",
              "        },\n",
              "      };\n",
              "\n",
              "      let percentDone = fileData.byteLength === 0 ?\n",
              "          100 :\n",
              "          Math.round((position / fileData.byteLength) * 100);\n",
              "      percent.textContent = `${percentDone}% done`;\n",
              "\n",
              "    } while (position < fileData.byteLength);\n",
              "  }\n",
              "\n",
              "  // All done.\n",
              "  yield {\n",
              "    response: {\n",
              "      action: 'complete',\n",
              "    }\n",
              "  };\n",
              "}\n",
              "\n",
              "scope.google = scope.google || {};\n",
              "scope.google.colab = scope.google.colab || {};\n",
              "scope.google.colab._files = {\n",
              "  _uploadFiles,\n",
              "  _uploadFilesContinue,\n",
              "};\n",
              "})(self);\n",
              "</script> "
            ]
          },
          "metadata": {}
        }
      ]
    },
    {
      "cell_type": "markdown",
      "source": [
        "**14. 掛載Google Drive存取檔案**"
      ],
      "metadata": {
        "id": "CxG--5S-ZioI"
      }
    },
    {
      "cell_type": "code",
      "source": [
        "# 透過 Colab 存取自己的Google雲端硬碟\n",
        "\n",
        "from google.colab import drive\n",
        "drive.mount('/content/drive')\n",
        "\n"
      ],
      "metadata": {
        "id": "fAm2NsojZwG4",
        "colab": {
          "base_uri": "https://localhost:8080/"
        },
        "outputId": "08bc03fe-344e-4b7d-f4b5-eb7ca4e2639d"
      },
      "execution_count": 36,
      "outputs": [
        {
          "output_type": "stream",
          "name": "stdout",
          "text": [
            "Mounted at /content/drive\n"
          ]
        }
      ]
    },
    {
      "cell_type": "code",
      "source": [
        "# 之後可存取雲端硬碟：\n",
        "# Make sure the file path is correct and the file exists in your Google Drive\n",
        "file_path = '/content/drive/MyDrive/your_file.txt'  # Replace with the correct path if necessary\n",
        "\n",
        "try:\n",
        "    with open(file_path, 'r') as f:\n",
        "        data = f.read()\n",
        "        print(data)  # Print the content of the file\n",
        "except FileNotFoundError:\n",
        "    print(f\"Error: File not found at {file_path}. Please check the file path and ensure the file exists.\")"
      ],
      "metadata": {
        "colab": {
          "base_uri": "https://localhost:8080/"
        },
        "id": "SsQIMY3ZdxX4",
        "outputId": "33d6ccc3-53ae-4ac4-912b-d88014afbbde"
      },
      "execution_count": 38,
      "outputs": [
        {
          "output_type": "stream",
          "name": "stdout",
          "text": [
            "Error: File not found at /content/drive/MyDrive/your_file.txt. Please check the file path and ensure the file exists.\n"
          ]
        }
      ]
    },
    {
      "cell_type": "markdown",
      "source": [
        "** 15. File Handling (檔案讀寫)**\n"
      ],
      "metadata": {
        "id": "k2K0kbk-G3yf"
      }
    },
    {
      "cell_type": "code",
      "source": [
        "# 寫入檔案：\n",
        "with open('example.txt', 'w') as f:\n",
        "    f.write('Hello Python')\n",
        "\n"
      ],
      "metadata": {
        "id": "0Gwgl71oG70X"
      },
      "execution_count": 39,
      "outputs": []
    },
    {
      "cell_type": "code",
      "source": [
        "# 讀取檔案：\n",
        "with open('example.txt', 'r') as f:\n",
        "    data = f.read()\n",
        "    print(data)\n"
      ],
      "metadata": {
        "id": "DIJBec1uG_7n",
        "colab": {
          "base_uri": "https://localhost:8080/"
        },
        "outputId": "6efc8c14-bcf4-4473-9b4d-5cab3d1e1f64"
      },
      "execution_count": 40,
      "outputs": [
        {
          "output_type": "stream",
          "name": "stdout",
          "text": [
            "Hello Python\n"
          ]
        }
      ]
    },
    {
      "cell_type": "markdown",
      "source": [
        "Please think about the assignment you did last week. What you have used for your script?\n",
        "\n",
        "1. How do you receive user input in the code?\n",
        "\n",
        "\n",
        "In Python, you typically receive user input using the input() function.\n",
        "\n",
        "2. How many variables did you create, and what are they used for?\n",
        "\n",
        "\n",
        "user input, calculations and storing data.\n",
        "\n",
        "3. Is if-elif-else used for conditional statements or for loops?\n",
        "\n",
        "\n",
        "if-elif-else is used for conditional statements.\n",
        "\n"
      ],
      "metadata": {
        "id": "8YdbDR7gcRuJ"
      }
    },
    {
      "cell_type": "markdown",
      "source": [
        "1. Which of the following are operators, and which are values?\n",
        "\n",
        "  a)\t*\n",
        "b)\t'hello’\n",
        "c)\t-88.8\n",
        "d)\t-\n",
        "e)\t/\n",
        "f)\t+\n",
        "\n",
        "\n",
        "Operators: *, -, /, +\n",
        "\n",
        "Values: 'hello', -88.8\n"
      ],
      "metadata": {
        "id": "G6Y8LujQvavS"
      }
    },
    {
      "cell_type": "markdown",
      "source": [
        "2. Which of the following is a variable, and which is a string?\n",
        "\n",
        "  a)\tspam\n",
        "b)\t'spam'\n",
        "\n",
        "\n",
        "Variable: spam\n",
        "\n",
        "String: 'spam'\n"
      ],
      "metadata": {
        "id": "2adDxXdNwHJy"
      }
    },
    {
      "cell_type": "markdown",
      "source": [
        "3. What does the variable monkey contain after the following code runs?\n",
        "\n",
        "  a) monkey = 20\n",
        "\n",
        "  b) monkey + 1\n",
        "\n",
        "\n",
        "monkey will still contain 20."
      ],
      "metadata": {
        "id": "FQXQvbIFxTPy"
      }
    },
    {
      "cell_type": "markdown",
      "source": [
        "4. What should the following two expressions evaluate to?\n",
        "\n",
        "  a)\t'spam' + 'spamspam’\n",
        "\n",
        "  b)\t'spam' * 3\n",
        "\n",
        "\n",
        "'spam' + 'spamspam' evaluates to 'spamspamspam'\n",
        "\n",
        "'spam' * 3 evaluates to 'spamspamspam'"
      ],
      "metadata": {
        "id": "FjTyD1iMxcZ6"
      }
    },
    {
      "cell_type": "markdown",
      "source": [
        "5. Why does this expression cause an error?\n",
        "\n",
        "  ‘I have eaten’+ 55 + ‘ becon’ + ‘for breakfast.’\n",
        "\n",
        "\n",
        "\n",
        "  The expression ‘I have eaten’+ 55 + ‘ becon’ + ‘for breakfast.’ causes an error because you are trying to add the integer 55 directly to strings."
      ],
      "metadata": {
        "id": "y-0SbEfYx0Pi"
      }
    },
    {
      "cell_type": "markdown",
      "source": [
        " In Python, you can only concatenate strings with other strings. To fix this, you would need to convert 55 to a string using str(55)"
      ],
      "metadata": {
        "id": "Ox5iUCQdfkJT"
      }
    },
    {
      "cell_type": "code",
      "source": [
        "'I have eaten ' + str(55) + ' bacon for breakfast.'\n"
      ],
      "metadata": {
        "colab": {
          "base_uri": "https://localhost:8080/",
          "height": 35
        },
        "id": "NnbGoTKvfmC5",
        "outputId": "74492796-295c-42a1-d263-fac8af7caa4f"
      },
      "execution_count": 41,
      "outputs": [
        {
          "output_type": "execute_result",
          "data": {
            "text/plain": [
              "'I have eaten 55 bacon for breakfast.'"
            ],
            "application/vnd.google.colaboratory.intrinsic+json": {
              "type": "string"
            }
          },
          "metadata": {},
          "execution_count": 41
        }
      ]
    }
  ]
}