{
  "cells": [
    {
      "cell_type": "markdown",
      "source": [
        "# **if-elif-else Conditional Statements**\n",
        "\n",
        "**You are the owner of your own zoo or animal-themed store.**\n",
        "\n",
        "**Create your own store or zoo name and greet visitors when they arrive.**\n",
        "\n",
        "**Visitors pay ticket prices depending on the animal they bring:**\n",
        "\n",
        "\n",
        "If it's a tiger, the ticket costs $100.\n",
        "\n",
        "If it's a monkey, the ticket costs $50.\n",
        "\n",
        "If it's a cat, entry is free!\n",
        "\n",
        "For any other animal, the ticket is $20.\n"
      ],
      "metadata": {
        "id": "apQVPr4Tdmow"
      }
    },
    {
      "cell_type": "markdown",
      "source": [
        "# **Task:**\n",
        "\n",
        "Write Python code using the if-elif-else structure to:\n",
        "1. First, ask the user for your store or zoo‘s name and greet visitors.\n",
        "學生自行設計商店或動物園名稱並且加入招呼語\n",
        "2. Ask visitors which animal they brought.\n",
        "詢問使用者帶來的是什麼動物。\n",
        "3. Determine and print the appropriate ticket price based on their animal.\n",
        "根據帶來的動物種類，決定票價。\n"
      ],
      "metadata": {
        "id": "ucMwHVOEkciB"
      }
    },
    {
      "cell_type": "code",
      "source": [
        "animal = input(\"Enter the animal you brought: \")\n",
        "\n",
        "# Write your if-elif-else code below to print the ticket price\n",
        "if animal==\"tiger\":\n",
        "  print(\"$100\")\n",
        "elif animal==\"monkey\":\n",
        "    print(\"$50\")\n",
        "elif animal==\"cat\":\n",
        "      print(\"free\")\n",
        "else: print(\"$20\")"
      ],
      "outputs": [
        {
          "output_type": "stream",
          "name": "stdout",
          "text": [
            "Enter the animal you brought: monkey\n",
            "$50\n"
          ]
        }
      ],
      "execution_count": null,
      "metadata": {
        "id": "YYe2ywppfL0x",
        "colab": {
          "base_uri": "https://localhost:8080/"
        },
        "outputId": "11ba2ec0-6251-4dca-aff0-19812bff3b46"
      }
    }
  ],
  "metadata": {
    "colab": {
      "provenance": []
    },
    "kernelspec": {
      "name": "python",
      "language": "python",
      "display_name": "Pyolite (preview)"
    },
    "language_info": {
      "codemirror_mode": {
        "name": "python",
        "version": 3
      },
      "file_extension": ".py",
      "mimetype": "text/x-python",
      "name": "python",
      "nbconvert_exporter": "python",
      "pygments_lexer": "ipython3",
      "version": "3.8"
    },
    "kernel_info": {
      "name": "python"
    },
    "nteract": {
      "version": "nteract-front-end@1.0.0"
    }
  },
  "nbformat": 4,
  "nbformat_minor": 0
}