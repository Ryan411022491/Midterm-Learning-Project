{
  "nbformat": 4,
  "nbformat_minor": 0,
  "metadata": {
    "colab": {
      "provenance": []
    },
    "kernelspec": {
      "name": "python3",
      "display_name": "Python 3"
    },
    "language_info": {
      "name": "python"
    }
  },
  "cells": [
    {
      "cell_type": "code",
      "execution_count": null,
      "metadata": {
        "colab": {
          "base_uri": "https://localhost:8080/"
        },
        "id": "YzE52XfrF0Of",
        "outputId": "373ded34-6738-4e3d-d96a-93464b3886f7"
      },
      "outputs": [
        {
          "output_type": "stream",
          "name": "stdout",
          "text": [
            "Welcome to the Python Coding Tutoring Class Application!\n",
            "Let's get started by learning more about you!\n",
            "What is your name?John\n",
            "How old are you?22\n",
            "Where were you born?Taiwan\n",
            "Which school or university did you attend?English\n",
            "What did you major in during school/college?English\n",
            "What is one of your favorite hobbies?PE\n",
            "\n",
            "--- Your Self Introduction ---\n",
            "Hello, my name is JOHN. I am 22 years old, and I was born in Taiwan.\n",
            "I completed my education at English, majoring in English.\n",
            "In my free time, I love to PE.\n",
            "\n"
          ]
        }
      ],
      "source": [
        "print(\"Welcome to the Python Coding Tutoring Class Application!\")\n",
        "print(\"Let's get started by learning more about you!\")\n",
        "name=input(\"What is your name?\")\n",
        "age=input(\"How old are you?\")\n",
        "birthplace=input(\"Where were you born?\")\n",
        "education=input(\"Which school or university did you attend?\")\n",
        "major=input(\"What did you major in during school/college?\")\n",
        "hobby=input(\"What is one of your favorite hobbies?\")\n",
        "\n",
        "print(\"\\n--- Your Self Introduction ---\")\n",
        "print(f\"Hello, my name is {name.upper()}. I am {age} years old, and I was born in {birthplace.capitalize()}.\")\n",
        "print(f\"I completed my education at {education}, majoring in {major}.\")\n",
        "print(f\"In my free time, I love to {hobby}.\\n\")"
      ]
    },
    {
      "cell_type": "code",
      "source": [
        "age1=int(age)\n",
        "if age1<=17:\n",
        "  print(\"You are young.\")\n",
        "elif 18<=age1<=30:\n",
        "    print(\"you are mature.\")\n",
        "elif 31<=age1<=45:\n",
        "      print(\"you are old.\")\n",
        "else: print(\"you are too old.\")"
      ],
      "metadata": {
        "colab": {
          "base_uri": "https://localhost:8080/"
        },
        "id": "CGu9dxx_RBpv",
        "outputId": "8499152f-6929-45b1-83f6-8c24bc5f9439"
      },
      "execution_count": null,
      "outputs": [
        {
          "output_type": "stream",
          "name": "stdout",
          "text": [
            "you are mature.\n"
          ]
        }
      ]
    }
  ]
}